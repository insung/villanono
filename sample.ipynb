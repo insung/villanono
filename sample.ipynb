{
 "cells": [
  {
   "cell_type": "code",
   "execution_count": 14,
   "metadata": {},
   "outputs": [
    {
     "ename": "ImportError",
     "evalue": "cannot import name 'groupby_yyyyMM' from 'read_file' (d:\\insung\\Github\\practice\\test_villa\\read_file.py)",
     "output_type": "error",
     "traceback": [
      "\u001b[1;31m---------------------------------------------------------------------------\u001b[0m",
      "\u001b[1;31mImportError\u001b[0m                               Traceback (most recent call last)",
      "Cell \u001b[1;32mIn[14], line 1\u001b[0m\n\u001b[1;32m----> 1\u001b[0m \u001b[38;5;28;01mfrom\u001b[39;00m \u001b[38;5;21;01mread_file\u001b[39;00m \u001b[38;5;28;01mimport\u001b[39;00m groupby_yyyyMM, read_original_file\n\u001b[0;32m      3\u001b[0m df2023 \u001b[38;5;241m=\u001b[39m read_original_file(\u001b[38;5;124m\"\u001b[39m\u001b[38;5;124m2023전월세.csv\u001b[39m\u001b[38;5;124m\"\u001b[39m)\n\u001b[0;32m      4\u001b[0m df2023 \u001b[38;5;241m=\u001b[39m groupby_yyyyMM(df2023, \u001b[38;5;241m202301\u001b[39m)\n",
      "\u001b[1;31mImportError\u001b[0m: cannot import name 'groupby_yyyyMM' from 'read_file' (d:\\insung\\Github\\practice\\test_villa\\read_file.py)"
     ]
    }
   ],
   "source": [
    "from read_file import groupby_yyyyMM, read_original_file\n",
    "\n",
    "df2023 = read_original_file(\"2023전월세.csv\")\n",
    "df2023 = groupby_yyyyMM(df2023, 202301)\n"
   ]
  },
  {
   "cell_type": "code",
   "execution_count": 5,
   "metadata": {},
   "outputs": [
    {
     "name": "stdout",
     "output_type": "stream",
     "text": [
      "Empty DataFrame\n",
      "Columns: [count, mean, min, max]\n",
      "Index: []\n"
     ]
    }
   ],
   "source": []
  },
  {
   "cell_type": "code",
   "execution_count": 14,
   "metadata": {},
   "outputs": [],
   "source": [
    "df2024 = read_original_file(\"2024전월세.csv\")\n",
    "df2024 = groupby_yyyyMM(df2024)"
   ]
  },
  {
   "cell_type": "code",
   "execution_count": 17,
   "metadata": {},
   "outputs": [
    {
     "ename": "KeyError",
     "evalue": "['보증금(만원)']",
     "output_type": "error",
     "traceback": [
      "\u001b[1;31m---------------------------------------------------------------------------\u001b[0m",
      "\u001b[1;31mKeyError\u001b[0m                                  Traceback (most recent call last)",
      "Cell \u001b[1;32mIn[17], line 5\u001b[0m\n\u001b[0;32m      1\u001b[0m \u001b[38;5;28;01mimport\u001b[39;00m \u001b[38;5;21;01mpandas\u001b[39;00m \u001b[38;5;28;01mas\u001b[39;00m \u001b[38;5;21;01mpd\u001b[39;00m\n\u001b[0;32m      3\u001b[0m \u001b[38;5;66;03m# df202301 = df2023[df2023[\"계약년월\"] == \"202301\"]\u001b[39;00m\n\u001b[1;32m----> 5\u001b[0m df2023 \u001b[38;5;241m=\u001b[39m \u001b[43mdf2023\u001b[49m\u001b[38;5;241;43m.\u001b[39;49m\u001b[43mdropna\u001b[49m\u001b[43m(\u001b[49m\u001b[43msubset\u001b[49m\u001b[38;5;241;43m=\u001b[39;49m\u001b[43m[\u001b[49m\u001b[38;5;124;43m\"\u001b[39;49m\u001b[38;5;124;43m보증금(만원)\u001b[39;49m\u001b[38;5;124;43m\"\u001b[39;49m\u001b[43m]\u001b[49m\u001b[43m)\u001b[49m\n\u001b[0;32m      6\u001b[0m \u001b[38;5;28mprint\u001b[39m(df2023)\n\u001b[0;32m      7\u001b[0m \u001b[38;5;66;03m# df202401 = df2024[df2024[\"계약년월\"] == \"202401\"]\u001b[39;00m\n",
      "File \u001b[1;32md:\\insung\\Github\\practice\\test_villa\\.venv\\Lib\\site-packages\\pandas\\core\\frame.py:6670\u001b[0m, in \u001b[0;36mDataFrame.dropna\u001b[1;34m(self, axis, how, thresh, subset, inplace, ignore_index)\u001b[0m\n\u001b[0;32m   6668\u001b[0m     check \u001b[38;5;241m=\u001b[39m indices \u001b[38;5;241m==\u001b[39m \u001b[38;5;241m-\u001b[39m\u001b[38;5;241m1\u001b[39m\n\u001b[0;32m   6669\u001b[0m     \u001b[38;5;28;01mif\u001b[39;00m check\u001b[38;5;241m.\u001b[39many():\n\u001b[1;32m-> 6670\u001b[0m         \u001b[38;5;28;01mraise\u001b[39;00m \u001b[38;5;167;01mKeyError\u001b[39;00m(np\u001b[38;5;241m.\u001b[39marray(subset)[check]\u001b[38;5;241m.\u001b[39mtolist())\n\u001b[0;32m   6671\u001b[0m     agg_obj \u001b[38;5;241m=\u001b[39m \u001b[38;5;28mself\u001b[39m\u001b[38;5;241m.\u001b[39mtake(indices, axis\u001b[38;5;241m=\u001b[39magg_axis)\n\u001b[0;32m   6673\u001b[0m \u001b[38;5;28;01mif\u001b[39;00m thresh \u001b[38;5;129;01mis\u001b[39;00m \u001b[38;5;129;01mnot\u001b[39;00m lib\u001b[38;5;241m.\u001b[39mno_default:\n",
      "\u001b[1;31mKeyError\u001b[0m: ['보증금(만원)']"
     ]
    }
   ],
   "source": [
    "import pandas as pd\n",
    "\n",
    "# df202301 = df2023[df2023[\"계약년월\"] == \"202301\"]\n",
    "\n",
    "df2023 = df2023.dropna(subset=[\"보증금(만원)\"])\n",
    "print(df2023)\n",
    "# df202401 = df2024[df2024[\"계약년월\"] == \"202401\"]"
   ]
  },
  {
   "cell_type": "code",
   "execution_count": 8,
   "metadata": {},
   "outputs": [
    {
     "name": "stdout",
     "output_type": "stream",
     "text": [
      "        count          mean   min    max\n",
      "계약년월                                    \n",
      "202401     33  18017.878788  5000  31500\n",
      "202402     41  19116.097561  3000  32000\n",
      "202403     38  19034.210526  7000  29000\n",
      "202404     24  19707.000000  6000  31500\n",
      "202405     41  18188.829268  1654  28000\n",
      "202406     36  17604.166667  4000  26400\n",
      "202407     27  18600.666667  7000  29000\n",
      "202408     23  18376.086957  4000  30000\n",
      "202409     19  18754.210526  8000  32000\n"
     ]
    }
   ],
   "source": [
    "print(df2024)"
   ]
  },
  {
   "cell_type": "code",
   "execution_count": 6,
   "metadata": {},
   "outputs": [
    {
     "name": "stdout",
     "output_type": "stream",
     "text": [
      "        count  mean  min  max\n",
      "202301    NaN   NaN  NaN  NaN\n",
      "202401    NaN   NaN  NaN  NaN\n"
     ]
    }
   ],
   "source": [
    "df_combined = pd.concat([df202301, df202401])\n",
    "comparison = df_combined.loc[['202301', '202401']]\n",
    "print(comparison)"
   ]
  }
 ],
 "metadata": {
  "kernelspec": {
   "display_name": ".venv",
   "language": "python",
   "name": "python3"
  },
  "language_info": {
   "codemirror_mode": {
    "name": "ipython",
    "version": 3
   },
   "file_extension": ".py",
   "mimetype": "text/x-python",
   "name": "python",
   "nbconvert_exporter": "python",
   "pygments_lexer": "ipython3",
   "version": "3.12.6"
  }
 },
 "nbformat": 4,
 "nbformat_minor": 2
}
